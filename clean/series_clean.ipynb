{
 "cells": [
  {
   "cell_type": "markdown",
   "metadata": {},
   "source": [
    "import "
   ]
  },
  {
   "cell_type": "code",
   "execution_count": 1,
   "metadata": {},
   "outputs": [],
   "source": [
    "import pandas as pd \n",
    "import numpy as np  \n",
    "import matplotlib.pyplot as plt \n",
    "import seaborn as sns\n",
    "\n"
   ]
  },
  {
   "cell_type": "markdown",
   "metadata": {},
   "source": [
    "EDA"
   ]
  },
  {
   "cell_type": "code",
   "execution_count": 4,
   "metadata": {},
   "outputs": [],
   "source": [
    "series=pd.read_csv('..\\Dataset\\imdb_series.csv') \n"
   ]
  },
  {
   "cell_type": "code",
   "execution_count": 5,
   "metadata": {},
   "outputs": [
    {
     "data": {
      "text/html": [
       "<div>\n",
       "<style scoped>\n",
       "    .dataframe tbody tr th:only-of-type {\n",
       "        vertical-align: middle;\n",
       "    }\n",
       "\n",
       "    .dataframe tbody tr th {\n",
       "        vertical-align: top;\n",
       "    }\n",
       "\n",
       "    .dataframe thead th {\n",
       "        text-align: right;\n",
       "    }\n",
       "</style>\n",
       "<table border=\"1\" class=\"dataframe\">\n",
       "  <thead>\n",
       "    <tr style=\"text-align: right;\">\n",
       "      <th></th>\n",
       "      <th>link</th>\n",
       "      <th>description</th>\n",
       "      <th>rating</th>\n",
       "      <th>votes</th>\n",
       "      <th>year</th>\n",
       "      <th>certificate</th>\n",
       "      <th>title</th>\n",
       "      <th>type</th>\n",
       "      <th>popularity</th>\n",
       "      <th>genre</th>\n",
       "      <th>creators</th>\n",
       "      <th>stars</th>\n",
       "      <th>country</th>\n",
       "      <th>language</th>\n",
       "      <th>production_company</th>\n",
       "      <th>duration</th>\n",
       "    </tr>\n",
       "  </thead>\n",
       "  <tbody>\n",
       "    <tr>\n",
       "      <th>0</th>\n",
       "      <td>https://www.imdb.com/title/tt0903747/?ref_=sr_t_1</td>\n",
       "      <td>A chemistry teacher diagnosed with inoperable ...</td>\n",
       "      <td>9.5</td>\n",
       "      <td>2,095,544</td>\n",
       "      <td>2008–2013</td>\n",
       "      <td>TV-MA</td>\n",
       "      <td>Breaking Bad</td>\n",
       "      <td>TV Series</td>\n",
       "      <td>NaN</td>\n",
       "      <td>Crime,Drama,Thriller</td>\n",
       "      <td>Vince Gilligan</td>\n",
       "      <td>Bryan Cranston,Aaron Paul,Anna Gunn</td>\n",
       "      <td>United States</td>\n",
       "      <td>English,Spanish</td>\n",
       "      <td>High Bridge Productions,Gran Via Productions,S...</td>\n",
       "      <td>50 hours 30 minutes</td>\n",
       "    </tr>\n",
       "    <tr>\n",
       "      <th>1</th>\n",
       "      <td>https://www.imdb.com/title/tt30263074/?ref_=sr...</td>\n",
       "      <td>Two obsessive dreamers collide with the resist...</td>\n",
       "      <td>9.5</td>\n",
       "      <td>51,263</td>\n",
       "      <td>2023–</td>\n",
       "      <td>NaN</td>\n",
       "      <td>Sapne Vs Everyone</td>\n",
       "      <td>TV Series</td>\n",
       "      <td>NaN</td>\n",
       "      <td>Drama</td>\n",
       "      <td>Paramvir Cheema,Ambrish Verma,Naveen Kasturia</td>\n",
       "      <td>NaN</td>\n",
       "      <td>India</td>\n",
       "      <td>Hindi</td>\n",
       "      <td>Contagious Online Media Network</td>\n",
       "      <td>5 hours 45 minutes</td>\n",
       "    </tr>\n",
       "    <tr>\n",
       "      <th>2</th>\n",
       "      <td>https://www.imdb.com/title/tt5491994/?ref_=sr_t_3</td>\n",
       "      <td>David Attenborough returns with a new wildlife...</td>\n",
       "      <td>9.5</td>\n",
       "      <td>155,845</td>\n",
       "      <td>2016</td>\n",
       "      <td>TV-G</td>\n",
       "      <td>Planet Earth II</td>\n",
       "      <td>TV Series</td>\n",
       "      <td>NaN</td>\n",
       "      <td>Documentary</td>\n",
       "      <td>David Attenborough,Chadden Hunter,Gordon Buchanan</td>\n",
       "      <td>NaN</td>\n",
       "      <td>United Kingdom,Germany,France,China,United States</td>\n",
       "      <td>English,French</td>\n",
       "      <td>BBC Natural History Unit (NHU),BBC America,Zwe...</td>\n",
       "      <td>4 hours 58 minutes</td>\n",
       "    </tr>\n",
       "    <tr>\n",
       "      <th>3</th>\n",
       "      <td>https://www.imdb.com/title/tt0185906/?ref_=sr_t_4</td>\n",
       "      <td>The story of Easy Company of the U.S. Army 101...</td>\n",
       "      <td>9.4</td>\n",
       "      <td>514,455</td>\n",
       "      <td>2001</td>\n",
       "      <td>TV-MA</td>\n",
       "      <td>Band of Brothers</td>\n",
       "      <td>TV Series</td>\n",
       "      <td>NaN</td>\n",
       "      <td>Drama,History,War</td>\n",
       "      <td>Scott Grimes,Damian Lewis,Ron Livingston</td>\n",
       "      <td>NaN</td>\n",
       "      <td>United Kingdom,United States</td>\n",
       "      <td>English,Dutch,French,German,Lithuanian</td>\n",
       "      <td>DreamWorks,DreamWorks Television,HBO Films</td>\n",
       "      <td>9 hours 54 minutes</td>\n",
       "    </tr>\n",
       "    <tr>\n",
       "      <th>4</th>\n",
       "      <td>https://www.imdb.com/title/tt28184392/?ref_=sr...</td>\n",
       "      <td>Kaala - an aspirational rapper from Canada who...</td>\n",
       "      <td>9.4</td>\n",
       "      <td>30,645</td>\n",
       "      <td>2023–</td>\n",
       "      <td>NaN</td>\n",
       "      <td>Chamak</td>\n",
       "      <td>TV Series</td>\n",
       "      <td>NaN</td>\n",
       "      <td>Crime,Drama,Musical</td>\n",
       "      <td>Rohit Jugraj</td>\n",
       "      <td>Paramvir Cheema,Isha Talwar,Akasa Singh</td>\n",
       "      <td>India</td>\n",
       "      <td>Hindi</td>\n",
       "      <td>NaN</td>\n",
       "      <td>55 minutes</td>\n",
       "    </tr>\n",
       "  </tbody>\n",
       "</table>\n",
       "</div>"
      ],
      "text/plain": [
       "                                                link  \\\n",
       "0  https://www.imdb.com/title/tt0903747/?ref_=sr_t_1   \n",
       "1  https://www.imdb.com/title/tt30263074/?ref_=sr...   \n",
       "2  https://www.imdb.com/title/tt5491994/?ref_=sr_t_3   \n",
       "3  https://www.imdb.com/title/tt0185906/?ref_=sr_t_4   \n",
       "4  https://www.imdb.com/title/tt28184392/?ref_=sr...   \n",
       "\n",
       "                                         description  rating      votes  \\\n",
       "0  A chemistry teacher diagnosed with inoperable ...     9.5  2,095,544   \n",
       "1  Two obsessive dreamers collide with the resist...     9.5     51,263   \n",
       "2  David Attenborough returns with a new wildlife...     9.5    155,845   \n",
       "3  The story of Easy Company of the U.S. Army 101...     9.4    514,455   \n",
       "4  Kaala - an aspirational rapper from Canada who...     9.4     30,645   \n",
       "\n",
       "        year certificate              title       type  popularity  \\\n",
       "0  2008–2013       TV-MA       Breaking Bad  TV Series         NaN   \n",
       "1      2023–         NaN  Sapne Vs Everyone  TV Series         NaN   \n",
       "2       2016        TV-G    Planet Earth II  TV Series         NaN   \n",
       "3       2001       TV-MA   Band of Brothers  TV Series         NaN   \n",
       "4      2023–         NaN             Chamak  TV Series         NaN   \n",
       "\n",
       "                  genre                                           creators  \\\n",
       "0  Crime,Drama,Thriller                                     Vince Gilligan   \n",
       "1                 Drama      Paramvir Cheema,Ambrish Verma,Naveen Kasturia   \n",
       "2           Documentary  David Attenborough,Chadden Hunter,Gordon Buchanan   \n",
       "3     Drama,History,War           Scott Grimes,Damian Lewis,Ron Livingston   \n",
       "4   Crime,Drama,Musical                                       Rohit Jugraj   \n",
       "\n",
       "                                     stars  \\\n",
       "0      Bryan Cranston,Aaron Paul,Anna Gunn   \n",
       "1                                      NaN   \n",
       "2                                      NaN   \n",
       "3                                      NaN   \n",
       "4  Paramvir Cheema,Isha Talwar,Akasa Singh   \n",
       "\n",
       "                                             country  \\\n",
       "0                                      United States   \n",
       "1                                              India   \n",
       "2  United Kingdom,Germany,France,China,United States   \n",
       "3                       United Kingdom,United States   \n",
       "4                                              India   \n",
       "\n",
       "                                 language  \\\n",
       "0                         English,Spanish   \n",
       "1                                   Hindi   \n",
       "2                          English,French   \n",
       "3  English,Dutch,French,German,Lithuanian   \n",
       "4                                   Hindi   \n",
       "\n",
       "                                  production_company             duration  \n",
       "0  High Bridge Productions,Gran Via Productions,S...  50 hours 30 minutes  \n",
       "1                    Contagious Online Media Network   5 hours 45 minutes  \n",
       "2  BBC Natural History Unit (NHU),BBC America,Zwe...   4 hours 58 minutes  \n",
       "3         DreamWorks,DreamWorks Television,HBO Films   9 hours 54 minutes  \n",
       "4                                                NaN           55 minutes  "
      ]
     },
     "execution_count": 5,
     "metadata": {},
     "output_type": "execute_result"
    }
   ],
   "source": [
    "series.head()"
   ]
  },
  {
   "cell_type": "code",
   "execution_count": 6,
   "metadata": {},
   "outputs": [
    {
     "name": "stdout",
     "output_type": "stream",
     "text": [
      "<class 'pandas.core.frame.DataFrame'>\n",
      "RangeIndex: 1021 entries, 0 to 1020\n",
      "Data columns (total 16 columns):\n",
      " #   Column              Non-Null Count  Dtype  \n",
      "---  ------              --------------  -----  \n",
      " 0   link                1021 non-null   object \n",
      " 1   description         1021 non-null   object \n",
      " 2   rating              1021 non-null   float64\n",
      " 3   votes               1021 non-null   object \n",
      " 4   year                1021 non-null   object \n",
      " 5   certificate         1009 non-null   object \n",
      " 6   title               1021 non-null   object \n",
      " 7   type                1021 non-null   object \n",
      " 8   popularity          0 non-null      float64\n",
      " 9   genre               1021 non-null   object \n",
      " 10  creators            1020 non-null   object \n",
      " 11  stars               848 non-null    object \n",
      " 12  country             1021 non-null   object \n",
      " 13  language            1021 non-null   object \n",
      " 14  production_company  1005 non-null   object \n",
      " 15  duration            1007 non-null   object \n",
      "dtypes: float64(2), object(14)\n",
      "memory usage: 127.8+ KB\n"
     ]
    }
   ],
   "source": [
    "series.info()"
   ]
  },
  {
   "cell_type": "code",
   "execution_count": 18,
   "metadata": {},
   "outputs": [
    {
     "data": {
      "text/html": [
       "<div>\n",
       "<style scoped>\n",
       "    .dataframe tbody tr th:only-of-type {\n",
       "        vertical-align: middle;\n",
       "    }\n",
       "\n",
       "    .dataframe tbody tr th {\n",
       "        vertical-align: top;\n",
       "    }\n",
       "\n",
       "    .dataframe thead th {\n",
       "        text-align: right;\n",
       "    }\n",
       "</style>\n",
       "<table border=\"1\" class=\"dataframe\">\n",
       "  <thead>\n",
       "    <tr style=\"text-align: right;\">\n",
       "      <th></th>\n",
       "      <th>rating</th>\n",
       "      <th>votes</th>\n",
       "    </tr>\n",
       "  </thead>\n",
       "  <tbody>\n",
       "    <tr>\n",
       "      <th>count</th>\n",
       "      <td>1021.000000</td>\n",
       "      <td>1.021000e+03</td>\n",
       "    </tr>\n",
       "    <tr>\n",
       "      <th>mean</th>\n",
       "      <td>7.935357</td>\n",
       "      <td>1.056794e+05</td>\n",
       "    </tr>\n",
       "    <tr>\n",
       "      <th>std</th>\n",
       "      <td>0.671093</td>\n",
       "      <td>1.599385e+05</td>\n",
       "    </tr>\n",
       "    <tr>\n",
       "      <th>min</th>\n",
       "      <td>6.000000</td>\n",
       "      <td>2.503300e+04</td>\n",
       "    </tr>\n",
       "    <tr>\n",
       "      <th>25%</th>\n",
       "      <td>7.500000</td>\n",
       "      <td>3.502200e+04</td>\n",
       "    </tr>\n",
       "    <tr>\n",
       "      <th>50%</th>\n",
       "      <td>8.000000</td>\n",
       "      <td>5.363500e+04</td>\n",
       "    </tr>\n",
       "    <tr>\n",
       "      <th>75%</th>\n",
       "      <td>8.400000</td>\n",
       "      <td>1.097020e+05</td>\n",
       "    </tr>\n",
       "    <tr>\n",
       "      <th>max</th>\n",
       "      <td>9.500000</td>\n",
       "      <td>2.250253e+06</td>\n",
       "    </tr>\n",
       "  </tbody>\n",
       "</table>\n",
       "</div>"
      ],
      "text/plain": [
       "            rating         votes\n",
       "count  1021.000000  1.021000e+03\n",
       "mean      7.935357  1.056794e+05\n",
       "std       0.671093  1.599385e+05\n",
       "min       6.000000  2.503300e+04\n",
       "25%       7.500000  3.502200e+04\n",
       "50%       8.000000  5.363500e+04\n",
       "75%       8.400000  1.097020e+05\n",
       "max       9.500000  2.250253e+06"
      ]
     },
     "execution_count": 18,
     "metadata": {},
     "output_type": "execute_result"
    }
   ],
   "source": [
    "series.describe()"
   ]
  },
  {
   "cell_type": "code",
   "execution_count": 19,
   "metadata": {},
   "outputs": [
    {
     "data": {
      "text/plain": [
       "(1021, 14)"
      ]
     },
     "execution_count": 19,
     "metadata": {},
     "output_type": "execute_result"
    }
   ],
   "source": [
    "series.shape"
   ]
  },
  {
   "cell_type": "code",
   "execution_count": 20,
   "metadata": {},
   "outputs": [
    {
     "data": {
      "text/plain": [
       "link                  0.0\n",
       "description           0.0\n",
       "rating                0.0\n",
       "votes                 0.0\n",
       "year                  0.0\n",
       "title                 0.0\n",
       "type                  0.0\n",
       "genre                 0.0\n",
       "creators              0.0\n",
       "stars                 0.0\n",
       "country               0.0\n",
       "language              0.0\n",
       "production_company    0.0\n",
       "parentalguide         0.0\n",
       "dtype: float64"
      ]
     },
     "execution_count": 20,
     "metadata": {},
     "output_type": "execute_result"
    }
   ],
   "source": [
    "(series.isnull().sum()/series.shape[0] )*100#checking for null values\n"
   ]
  },
  {
   "cell_type": "markdown",
   "metadata": {},
   "source": [
    "drop columns"
   ]
  },
  {
   "cell_type": "code",
   "execution_count": 21,
   "metadata": {},
   "outputs": [
    {
     "ename": "KeyError",
     "evalue": "\"['popularity'] not found in axis\"",
     "output_type": "error",
     "traceback": [
      "\u001b[1;31m---------------------------------------------------------------------------\u001b[0m",
      "\u001b[1;31mKeyError\u001b[0m                                  Traceback (most recent call last)",
      "Cell \u001b[1;32mIn[21], line 1\u001b[0m\n\u001b[1;32m----> 1\u001b[0m \u001b[43mseries\u001b[49m\u001b[38;5;241;43m.\u001b[39;49m\u001b[43mdrop\u001b[49m\u001b[43m(\u001b[49m\u001b[43m[\u001b[49m\u001b[38;5;124;43m'\u001b[39;49m\u001b[38;5;124;43mpopularity\u001b[39;49m\u001b[38;5;124;43m'\u001b[39;49m\u001b[43m]\u001b[49m\u001b[43m,\u001b[49m\u001b[43maxis\u001b[49m\u001b[38;5;241;43m=\u001b[39;49m\u001b[38;5;241;43m1\u001b[39;49m\u001b[43m,\u001b[49m\u001b[43minplace\u001b[49m\u001b[38;5;241;43m=\u001b[39;49m\u001b[38;5;28;43;01mTrue\u001b[39;49;00m\u001b[43m)\u001b[49m  \u001b[38;5;66;03m#dropping the columns which are not required\u001b[39;00m\n",
      "File \u001b[1;32mc:\\Users\\mohamed elsayed\\AppData\\Local\\Programs\\Python\\Python311\\Lib\\site-packages\\pandas\\core\\frame.py:5568\u001b[0m, in \u001b[0;36mDataFrame.drop\u001b[1;34m(self, labels, axis, index, columns, level, inplace, errors)\u001b[0m\n\u001b[0;32m   5420\u001b[0m \u001b[38;5;28;01mdef\u001b[39;00m \u001b[38;5;21mdrop\u001b[39m(\n\u001b[0;32m   5421\u001b[0m     \u001b[38;5;28mself\u001b[39m,\n\u001b[0;32m   5422\u001b[0m     labels: IndexLabel \u001b[38;5;241m|\u001b[39m \u001b[38;5;28;01mNone\u001b[39;00m \u001b[38;5;241m=\u001b[39m \u001b[38;5;28;01mNone\u001b[39;00m,\n\u001b[1;32m   (...)\u001b[0m\n\u001b[0;32m   5429\u001b[0m     errors: IgnoreRaise \u001b[38;5;241m=\u001b[39m \u001b[38;5;124m\"\u001b[39m\u001b[38;5;124mraise\u001b[39m\u001b[38;5;124m\"\u001b[39m,\n\u001b[0;32m   5430\u001b[0m ) \u001b[38;5;241m-\u001b[39m\u001b[38;5;241m>\u001b[39m DataFrame \u001b[38;5;241m|\u001b[39m \u001b[38;5;28;01mNone\u001b[39;00m:\n\u001b[0;32m   5431\u001b[0m \u001b[38;5;250m    \u001b[39m\u001b[38;5;124;03m\"\"\"\u001b[39;00m\n\u001b[0;32m   5432\u001b[0m \u001b[38;5;124;03m    Drop specified labels from rows or columns.\u001b[39;00m\n\u001b[0;32m   5433\u001b[0m \n\u001b[1;32m   (...)\u001b[0m\n\u001b[0;32m   5566\u001b[0m \u001b[38;5;124;03m            weight  1.0     0.8\u001b[39;00m\n\u001b[0;32m   5567\u001b[0m \u001b[38;5;124;03m    \"\"\"\u001b[39;00m\n\u001b[1;32m-> 5568\u001b[0m     \u001b[38;5;28;01mreturn\u001b[39;00m \u001b[38;5;28;43msuper\u001b[39;49m\u001b[43m(\u001b[49m\u001b[43m)\u001b[49m\u001b[38;5;241;43m.\u001b[39;49m\u001b[43mdrop\u001b[49m\u001b[43m(\u001b[49m\n\u001b[0;32m   5569\u001b[0m \u001b[43m        \u001b[49m\u001b[43mlabels\u001b[49m\u001b[38;5;241;43m=\u001b[39;49m\u001b[43mlabels\u001b[49m\u001b[43m,\u001b[49m\n\u001b[0;32m   5570\u001b[0m \u001b[43m        \u001b[49m\u001b[43maxis\u001b[49m\u001b[38;5;241;43m=\u001b[39;49m\u001b[43maxis\u001b[49m\u001b[43m,\u001b[49m\n\u001b[0;32m   5571\u001b[0m \u001b[43m        \u001b[49m\u001b[43mindex\u001b[49m\u001b[38;5;241;43m=\u001b[39;49m\u001b[43mindex\u001b[49m\u001b[43m,\u001b[49m\n\u001b[0;32m   5572\u001b[0m \u001b[43m        \u001b[49m\u001b[43mcolumns\u001b[49m\u001b[38;5;241;43m=\u001b[39;49m\u001b[43mcolumns\u001b[49m\u001b[43m,\u001b[49m\n\u001b[0;32m   5573\u001b[0m \u001b[43m        \u001b[49m\u001b[43mlevel\u001b[49m\u001b[38;5;241;43m=\u001b[39;49m\u001b[43mlevel\u001b[49m\u001b[43m,\u001b[49m\n\u001b[0;32m   5574\u001b[0m \u001b[43m        \u001b[49m\u001b[43minplace\u001b[49m\u001b[38;5;241;43m=\u001b[39;49m\u001b[43minplace\u001b[49m\u001b[43m,\u001b[49m\n\u001b[0;32m   5575\u001b[0m \u001b[43m        \u001b[49m\u001b[43merrors\u001b[49m\u001b[38;5;241;43m=\u001b[39;49m\u001b[43merrors\u001b[49m\u001b[43m,\u001b[49m\n\u001b[0;32m   5576\u001b[0m \u001b[43m    \u001b[49m\u001b[43m)\u001b[49m\n",
      "File \u001b[1;32mc:\\Users\\mohamed elsayed\\AppData\\Local\\Programs\\Python\\Python311\\Lib\\site-packages\\pandas\\core\\generic.py:4785\u001b[0m, in \u001b[0;36mNDFrame.drop\u001b[1;34m(self, labels, axis, index, columns, level, inplace, errors)\u001b[0m\n\u001b[0;32m   4783\u001b[0m \u001b[38;5;28;01mfor\u001b[39;00m axis, labels \u001b[38;5;129;01min\u001b[39;00m axes\u001b[38;5;241m.\u001b[39mitems():\n\u001b[0;32m   4784\u001b[0m     \u001b[38;5;28;01mif\u001b[39;00m labels \u001b[38;5;129;01mis\u001b[39;00m \u001b[38;5;129;01mnot\u001b[39;00m \u001b[38;5;28;01mNone\u001b[39;00m:\n\u001b[1;32m-> 4785\u001b[0m         obj \u001b[38;5;241m=\u001b[39m \u001b[43mobj\u001b[49m\u001b[38;5;241;43m.\u001b[39;49m\u001b[43m_drop_axis\u001b[49m\u001b[43m(\u001b[49m\u001b[43mlabels\u001b[49m\u001b[43m,\u001b[49m\u001b[43m \u001b[49m\u001b[43maxis\u001b[49m\u001b[43m,\u001b[49m\u001b[43m \u001b[49m\u001b[43mlevel\u001b[49m\u001b[38;5;241;43m=\u001b[39;49m\u001b[43mlevel\u001b[49m\u001b[43m,\u001b[49m\u001b[43m \u001b[49m\u001b[43merrors\u001b[49m\u001b[38;5;241;43m=\u001b[39;49m\u001b[43merrors\u001b[49m\u001b[43m)\u001b[49m\n\u001b[0;32m   4787\u001b[0m \u001b[38;5;28;01mif\u001b[39;00m inplace:\n\u001b[0;32m   4788\u001b[0m     \u001b[38;5;28mself\u001b[39m\u001b[38;5;241m.\u001b[39m_update_inplace(obj)\n",
      "File \u001b[1;32mc:\\Users\\mohamed elsayed\\AppData\\Local\\Programs\\Python\\Python311\\Lib\\site-packages\\pandas\\core\\generic.py:4827\u001b[0m, in \u001b[0;36mNDFrame._drop_axis\u001b[1;34m(self, labels, axis, level, errors, only_slice)\u001b[0m\n\u001b[0;32m   4825\u001b[0m         new_axis \u001b[38;5;241m=\u001b[39m axis\u001b[38;5;241m.\u001b[39mdrop(labels, level\u001b[38;5;241m=\u001b[39mlevel, errors\u001b[38;5;241m=\u001b[39merrors)\n\u001b[0;32m   4826\u001b[0m     \u001b[38;5;28;01melse\u001b[39;00m:\n\u001b[1;32m-> 4827\u001b[0m         new_axis \u001b[38;5;241m=\u001b[39m \u001b[43maxis\u001b[49m\u001b[38;5;241;43m.\u001b[39;49m\u001b[43mdrop\u001b[49m\u001b[43m(\u001b[49m\u001b[43mlabels\u001b[49m\u001b[43m,\u001b[49m\u001b[43m \u001b[49m\u001b[43merrors\u001b[49m\u001b[38;5;241;43m=\u001b[39;49m\u001b[43merrors\u001b[49m\u001b[43m)\u001b[49m\n\u001b[0;32m   4828\u001b[0m     indexer \u001b[38;5;241m=\u001b[39m axis\u001b[38;5;241m.\u001b[39mget_indexer(new_axis)\n\u001b[0;32m   4830\u001b[0m \u001b[38;5;66;03m# Case for non-unique axis\u001b[39;00m\n\u001b[0;32m   4831\u001b[0m \u001b[38;5;28;01melse\u001b[39;00m:\n",
      "File \u001b[1;32mc:\\Users\\mohamed elsayed\\AppData\\Local\\Programs\\Python\\Python311\\Lib\\site-packages\\pandas\\core\\indexes\\base.py:7070\u001b[0m, in \u001b[0;36mIndex.drop\u001b[1;34m(self, labels, errors)\u001b[0m\n\u001b[0;32m   7068\u001b[0m \u001b[38;5;28;01mif\u001b[39;00m mask\u001b[38;5;241m.\u001b[39many():\n\u001b[0;32m   7069\u001b[0m     \u001b[38;5;28;01mif\u001b[39;00m errors \u001b[38;5;241m!=\u001b[39m \u001b[38;5;124m\"\u001b[39m\u001b[38;5;124mignore\u001b[39m\u001b[38;5;124m\"\u001b[39m:\n\u001b[1;32m-> 7070\u001b[0m         \u001b[38;5;28;01mraise\u001b[39;00m \u001b[38;5;167;01mKeyError\u001b[39;00m(\u001b[38;5;124mf\u001b[39m\u001b[38;5;124m\"\u001b[39m\u001b[38;5;132;01m{\u001b[39;00mlabels[mask]\u001b[38;5;241m.\u001b[39mtolist()\u001b[38;5;132;01m}\u001b[39;00m\u001b[38;5;124m not found in axis\u001b[39m\u001b[38;5;124m\"\u001b[39m)\n\u001b[0;32m   7071\u001b[0m     indexer \u001b[38;5;241m=\u001b[39m indexer[\u001b[38;5;241m~\u001b[39mmask]\n\u001b[0;32m   7072\u001b[0m \u001b[38;5;28;01mreturn\u001b[39;00m \u001b[38;5;28mself\u001b[39m\u001b[38;5;241m.\u001b[39mdelete(indexer)\n",
      "\u001b[1;31mKeyError\u001b[0m: \"['popularity'] not found in axis\""
     ]
    }
   ],
   "source": [
    "series.drop(['popularity'],axis=1,inplace=True)  #dropping the columns which are not required"
   ]
  },
  {
   "cell_type": "code",
   "execution_count": null,
   "metadata": {},
   "outputs": [],
   "source": [
    "series.drop([\"duration\"],axis=1,inplace=True)  #dropping the columns which are not required"
   ]
  },
  {
   "cell_type": "markdown",
   "metadata": {},
   "source": [
    "clean the data correct dtypes"
   ]
  },
  {
   "cell_type": "code",
   "execution_count": null,
   "metadata": {},
   "outputs": [],
   "source": [
    "series[\"votes\"]=series[\"votes\"].str.replace(\",\",\"\").astype(int) #removing the commas and converting the datatype to float"
   ]
  },
  {
   "cell_type": "markdown",
   "metadata": {},
   "source": [
    "split many values in one record into one value in one record"
   ]
  },
  {
   "cell_type": "code",
   "execution_count": null,
   "metadata": {},
   "outputs": [],
   "source": [
    "def split_values(name):\n",
    "    namelist=[]\n",
    "    titles=[]\n",
    "    coulmn=series[name].dropna()\n",
    "    for i in range(len(coulmn)):\n",
    "        value=coulmn.str.split(\",\").iloc[i]\n",
    "        if len(value)>1:\n",
    "            for j in value:\n",
    "                namelist.append(j)\n",
    "                titles.append(series[\"title\"].iloc[i])\n",
    "        else:\n",
    "            namelist.append(value[0])  \n",
    "            titles.append(series[\"title\"].iloc[i])\n",
    "    df=pd.DataFrame({\"title\":titles,name:namelist})\n",
    "    return df\n",
    "\n",
    "splits={}\n"
   ]
  },
  {
   "cell_type": "code",
   "execution_count": null,
   "metadata": {},
   "outputs": [],
   "source": [
    "#  append in dict with key  and value \n",
    "splits[\"country\"]=split_values(\"country\")\n",
    "splits[\"creators\"]=split_values(\"creators\")\n",
    "splits[\"stars\"]= split_values(\"stars\")\n",
    "splits[\"production_company\"]=split_values(\"production_company\")\n",
    "splits[\"language\"]=split_values(\"language\")\n",
    "splits[\"genre\"]=split_values(\"genre\")\n",
    "\n",
    "\n",
    "\n"
   ]
  },
  {
   "cell_type": "markdown",
   "metadata": {},
   "source": [
    "explore any df in splits"
   ]
  },
  {
   "cell_type": "code",
   "execution_count": null,
   "metadata": {},
   "outputs": [
    {
     "data": {
      "text/html": [
       "<div>\n",
       "<style scoped>\n",
       "    .dataframe tbody tr th:only-of-type {\n",
       "        vertical-align: middle;\n",
       "    }\n",
       "\n",
       "    .dataframe tbody tr th {\n",
       "        vertical-align: top;\n",
       "    }\n",
       "\n",
       "    .dataframe thead th {\n",
       "        text-align: right;\n",
       "    }\n",
       "</style>\n",
       "<table border=\"1\" class=\"dataframe\">\n",
       "  <thead>\n",
       "    <tr style=\"text-align: right;\">\n",
       "      <th></th>\n",
       "      <th>title</th>\n",
       "      <th>country</th>\n",
       "    </tr>\n",
       "  </thead>\n",
       "  <tbody>\n",
       "    <tr>\n",
       "      <th>0</th>\n",
       "      <td>Breaking Bad</td>\n",
       "      <td>United States</td>\n",
       "    </tr>\n",
       "    <tr>\n",
       "      <th>1</th>\n",
       "      <td>Sapne Vs Everyone</td>\n",
       "      <td>India</td>\n",
       "    </tr>\n",
       "    <tr>\n",
       "      <th>2</th>\n",
       "      <td>Planet Earth II</td>\n",
       "      <td>United Kingdom</td>\n",
       "    </tr>\n",
       "    <tr>\n",
       "      <th>3</th>\n",
       "      <td>Planet Earth II</td>\n",
       "      <td>Germany</td>\n",
       "    </tr>\n",
       "    <tr>\n",
       "      <th>4</th>\n",
       "      <td>Planet Earth II</td>\n",
       "      <td>France</td>\n",
       "    </tr>\n",
       "  </tbody>\n",
       "</table>\n",
       "</div>"
      ],
      "text/plain": [
       "               title         country\n",
       "0       Breaking Bad   United States\n",
       "1  Sapne Vs Everyone           India\n",
       "2    Planet Earth II  United Kingdom\n",
       "3    Planet Earth II         Germany\n",
       "4    Planet Earth II          France"
      ]
     },
     "execution_count": 13,
     "metadata": {},
     "output_type": "execute_result"
    }
   ],
   "source": [
    "splits[\"country\"].head()"
   ]
  },
  {
   "cell_type": "markdown",
   "metadata": {},
   "source": [
    "clean year column and split it"
   ]
  },
  {
   "cell_type": "code",
   "execution_count": null,
   "metadata": {},
   "outputs": [],
   "source": [
    "years_start=[]\n",
    "years_end=[]\n",
    "year=series[\"year\"]\n",
    "\n",
    "for i in range(len(year)):\n",
    "    if \"–\" in year.iloc[i][-1]:\n",
    "        years_start.append(year.iloc[i][0:4])\n",
    "        years_end.append(\"unfinished\")\n",
    "\n",
    "    elif \"–\" in year.iloc[i]:\n",
    "        x=year.iloc[i].replace(\"–\",\",\").split(\",\")\n",
    "        years_start.append(x[0])\n",
    "        years_end.append(x[1])\n",
    "    else:\n",
    "        years_start.append(year.iloc[i])\n",
    "        years_end.append(\"unfinished\")\n",
    "   \n",
    "series[\"end_year\"]=[ i for i in years_end if i!=\"\"]\n",
    "series[\"start_year\"]=years_start\n",
    "\n",
    "series.drop([\"year\"],axis=1,inplace=True)\n",
    "\n"
   ]
  },
  {
   "cell_type": "markdown",
   "metadata": {},
   "source": [
    "save the output of splits"
   ]
  },
  {
   "cell_type": "code",
   "execution_count": null,
   "metadata": {},
   "outputs": [],
   "source": [
    "excel_file_path = 'splits_series.xlsx'\n",
    "\n",
    "with pd.ExcelWriter(excel_file_path, engine='xlsxwriter') as writer:\n",
    "    for sheet_name, df in splits.items():\n",
    "        df.to_excel(writer, sheet_name=sheet_name, index=False)\n",
    "\n"
   ]
  },
  {
   "cell_type": "markdown",
   "metadata": {},
   "source": [
    "map the certificate values tio it meaning"
   ]
  },
  {
   "cell_type": "code",
   "execution_count": null,
   "metadata": {},
   "outputs": [],
   "source": [
    "series['parentalguide'] = series['certificate'].replace({\n",
    "                'PG-13': 'Teens - Age above 12',\n",
    "                'TV-MA': 'Adults',\n",
    "                'PG': 'Kids - with parental guidence',\n",
    "                'TV-14': 'Teens - Age above 14',\n",
    "                'TV-PG': 'Kids - with parental guidence',\n",
    "                'TV-Y': 'Kids',\n",
    "                'R': 'Adults',\n",
    "                'TV-G': 'Kids',\n",
    "                 'G': 'Kids',\n",
    "                'NC-17': 'Adults',\n",
    "                'Approved': 'Kids - with parental guidence',\n",
    "                'Passed': 'Kids - with parental guidence',\n",
    "                'Not Rated': 'Not Rated'\n",
    "                ,'Unrated': 'Not Rated'\n",
    "                ,'X': 'Adults'\n",
    "                ,'M': 'Adults'\n",
    "                ,'GP': 'Kids - with parental guidence'\n",
    "                ,'18+': 'Adults'\n",
    "                ,'13+': 'Teens - Age above 12'\n",
    "                ,'M/PG': 'Kids - with parental guidence',\n",
    "                np.nan: 'Not Rated'\n",
    "                \n",
    "})\n",
    "series.drop([\"certificate\"],axis=1,inplace=True)\n"
   ]
  },
  {
   "cell_type": "code",
   "execution_count": null,
   "metadata": {},
   "outputs": [],
   "source": [
    "series.fillna(\"\",inplace=True)"
   ]
  },
  {
   "cell_type": "markdown",
   "metadata": {},
   "source": [
    "explore the data after cleaning"
   ]
  },
  {
   "cell_type": "code",
   "execution_count": null,
   "metadata": {},
   "outputs": [
    {
     "data": {
      "text/html": [
       "<div>\n",
       "<style scoped>\n",
       "    .dataframe tbody tr th:only-of-type {\n",
       "        vertical-align: middle;\n",
       "    }\n",
       "\n",
       "    .dataframe tbody tr th {\n",
       "        vertical-align: top;\n",
       "    }\n",
       "\n",
       "    .dataframe thead th {\n",
       "        text-align: right;\n",
       "    }\n",
       "</style>\n",
       "<table border=\"1\" class=\"dataframe\">\n",
       "  <thead>\n",
       "    <tr style=\"text-align: right;\">\n",
       "      <th></th>\n",
       "      <th>link</th>\n",
       "      <th>description</th>\n",
       "      <th>rating</th>\n",
       "      <th>votes</th>\n",
       "      <th>year</th>\n",
       "      <th>title</th>\n",
       "      <th>type</th>\n",
       "      <th>genre</th>\n",
       "      <th>creators</th>\n",
       "      <th>stars</th>\n",
       "      <th>country</th>\n",
       "      <th>language</th>\n",
       "      <th>production_company</th>\n",
       "      <th>parentalguide</th>\n",
       "    </tr>\n",
       "  </thead>\n",
       "  <tbody>\n",
       "    <tr>\n",
       "      <th>0</th>\n",
       "      <td>https://www.imdb.com/title/tt0903747/?ref_=sr_t_1</td>\n",
       "      <td>A chemistry teacher diagnosed with inoperable ...</td>\n",
       "      <td>9.5</td>\n",
       "      <td>2095544</td>\n",
       "      <td>2008–2013</td>\n",
       "      <td>Breaking Bad</td>\n",
       "      <td>TV Series</td>\n",
       "      <td>Crime,Drama,Thriller</td>\n",
       "      <td>Vince Gilligan</td>\n",
       "      <td>Bryan Cranston,Aaron Paul,Anna Gunn</td>\n",
       "      <td>United States</td>\n",
       "      <td>English,Spanish</td>\n",
       "      <td>High Bridge Productions,Gran Via Productions,S...</td>\n",
       "      <td>Adults</td>\n",
       "    </tr>\n",
       "    <tr>\n",
       "      <th>1</th>\n",
       "      <td>https://www.imdb.com/title/tt30263074/?ref_=sr...</td>\n",
       "      <td>Two obsessive dreamers collide with the resist...</td>\n",
       "      <td>9.5</td>\n",
       "      <td>51263</td>\n",
       "      <td>2023–</td>\n",
       "      <td>Sapne Vs Everyone</td>\n",
       "      <td>TV Series</td>\n",
       "      <td>Drama</td>\n",
       "      <td>Paramvir Cheema,Ambrish Verma,Naveen Kasturia</td>\n",
       "      <td></td>\n",
       "      <td>India</td>\n",
       "      <td>Hindi</td>\n",
       "      <td>Contagious Online Media Network</td>\n",
       "      <td>Not Rated</td>\n",
       "    </tr>\n",
       "    <tr>\n",
       "      <th>2</th>\n",
       "      <td>https://www.imdb.com/title/tt5491994/?ref_=sr_t_3</td>\n",
       "      <td>David Attenborough returns with a new wildlife...</td>\n",
       "      <td>9.5</td>\n",
       "      <td>155845</td>\n",
       "      <td>2016</td>\n",
       "      <td>Planet Earth II</td>\n",
       "      <td>TV Series</td>\n",
       "      <td>Documentary</td>\n",
       "      <td>David Attenborough,Chadden Hunter,Gordon Buchanan</td>\n",
       "      <td></td>\n",
       "      <td>United Kingdom,Germany,France,China,United States</td>\n",
       "      <td>English,French</td>\n",
       "      <td>BBC Natural History Unit (NHU),BBC America,Zwe...</td>\n",
       "      <td>Kids</td>\n",
       "    </tr>\n",
       "    <tr>\n",
       "      <th>3</th>\n",
       "      <td>https://www.imdb.com/title/tt0185906/?ref_=sr_t_4</td>\n",
       "      <td>The story of Easy Company of the U.S. Army 101...</td>\n",
       "      <td>9.4</td>\n",
       "      <td>514455</td>\n",
       "      <td>2001</td>\n",
       "      <td>Band of Brothers</td>\n",
       "      <td>TV Series</td>\n",
       "      <td>Drama,History,War</td>\n",
       "      <td>Scott Grimes,Damian Lewis,Ron Livingston</td>\n",
       "      <td></td>\n",
       "      <td>United Kingdom,United States</td>\n",
       "      <td>English,Dutch,French,German,Lithuanian</td>\n",
       "      <td>DreamWorks,DreamWorks Television,HBO Films</td>\n",
       "      <td>Adults</td>\n",
       "    </tr>\n",
       "    <tr>\n",
       "      <th>4</th>\n",
       "      <td>https://www.imdb.com/title/tt28184392/?ref_=sr...</td>\n",
       "      <td>Kaala - an aspirational rapper from Canada who...</td>\n",
       "      <td>9.4</td>\n",
       "      <td>30645</td>\n",
       "      <td>2023–</td>\n",
       "      <td>Chamak</td>\n",
       "      <td>TV Series</td>\n",
       "      <td>Crime,Drama,Musical</td>\n",
       "      <td>Rohit Jugraj</td>\n",
       "      <td>Paramvir Cheema,Isha Talwar,Akasa Singh</td>\n",
       "      <td>India</td>\n",
       "      <td>Hindi</td>\n",
       "      <td></td>\n",
       "      <td>Not Rated</td>\n",
       "    </tr>\n",
       "  </tbody>\n",
       "</table>\n",
       "</div>"
      ],
      "text/plain": [
       "                                                link  \\\n",
       "0  https://www.imdb.com/title/tt0903747/?ref_=sr_t_1   \n",
       "1  https://www.imdb.com/title/tt30263074/?ref_=sr...   \n",
       "2  https://www.imdb.com/title/tt5491994/?ref_=sr_t_3   \n",
       "3  https://www.imdb.com/title/tt0185906/?ref_=sr_t_4   \n",
       "4  https://www.imdb.com/title/tt28184392/?ref_=sr...   \n",
       "\n",
       "                                         description  rating    votes  \\\n",
       "0  A chemistry teacher diagnosed with inoperable ...     9.5  2095544   \n",
       "1  Two obsessive dreamers collide with the resist...     9.5    51263   \n",
       "2  David Attenborough returns with a new wildlife...     9.5   155845   \n",
       "3  The story of Easy Company of the U.S. Army 101...     9.4   514455   \n",
       "4  Kaala - an aspirational rapper from Canada who...     9.4    30645   \n",
       "\n",
       "        year              title       type                 genre  \\\n",
       "0  2008–2013       Breaking Bad  TV Series  Crime,Drama,Thriller   \n",
       "1      2023–  Sapne Vs Everyone  TV Series                 Drama   \n",
       "2       2016    Planet Earth II  TV Series           Documentary   \n",
       "3       2001   Band of Brothers  TV Series     Drama,History,War   \n",
       "4      2023–             Chamak  TV Series   Crime,Drama,Musical   \n",
       "\n",
       "                                            creators  \\\n",
       "0                                     Vince Gilligan   \n",
       "1      Paramvir Cheema,Ambrish Verma,Naveen Kasturia   \n",
       "2  David Attenborough,Chadden Hunter,Gordon Buchanan   \n",
       "3           Scott Grimes,Damian Lewis,Ron Livingston   \n",
       "4                                       Rohit Jugraj   \n",
       "\n",
       "                                     stars  \\\n",
       "0      Bryan Cranston,Aaron Paul,Anna Gunn   \n",
       "1                                            \n",
       "2                                            \n",
       "3                                            \n",
       "4  Paramvir Cheema,Isha Talwar,Akasa Singh   \n",
       "\n",
       "                                             country  \\\n",
       "0                                      United States   \n",
       "1                                              India   \n",
       "2  United Kingdom,Germany,France,China,United States   \n",
       "3                       United Kingdom,United States   \n",
       "4                                              India   \n",
       "\n",
       "                                 language  \\\n",
       "0                         English,Spanish   \n",
       "1                                   Hindi   \n",
       "2                          English,French   \n",
       "3  English,Dutch,French,German,Lithuanian   \n",
       "4                                   Hindi   \n",
       "\n",
       "                                  production_company parentalguide  \n",
       "0  High Bridge Productions,Gran Via Productions,S...        Adults  \n",
       "1                    Contagious Online Media Network     Not Rated  \n",
       "2  BBC Natural History Unit (NHU),BBC America,Zwe...          Kids  \n",
       "3         DreamWorks,DreamWorks Television,HBO Films        Adults  \n",
       "4                                                        Not Rated  "
      ]
     },
     "execution_count": 16,
     "metadata": {},
     "output_type": "execute_result"
    }
   ],
   "source": [
    "series.head()"
   ]
  },
  {
   "cell_type": "markdown",
   "metadata": {},
   "source": []
  },
  {
   "cell_type": "code",
   "execution_count": null,
   "metadata": {},
   "outputs": [
    {
     "name": "stdout",
     "output_type": "stream",
     "text": [
      "<class 'pandas.core.frame.DataFrame'>\n",
      "RangeIndex: 1021 entries, 0 to 1020\n",
      "Data columns (total 14 columns):\n",
      " #   Column              Non-Null Count  Dtype  \n",
      "---  ------              --------------  -----  \n",
      " 0   link                1021 non-null   object \n",
      " 1   description         1021 non-null   object \n",
      " 2   rating              1021 non-null   float64\n",
      " 3   votes               1021 non-null   int32  \n",
      " 4   year                1021 non-null   object \n",
      " 5   title               1021 non-null   object \n",
      " 6   type                1021 non-null   object \n",
      " 7   genre               1021 non-null   object \n",
      " 8   creators            1021 non-null   object \n",
      " 9   stars               1021 non-null   object \n",
      " 10  country             1021 non-null   object \n",
      " 11  language            1021 non-null   object \n",
      " 12  production_company  1021 non-null   object \n",
      " 13  parentalguide       1021 non-null   object \n",
      "dtypes: float64(1), int32(1), object(12)\n",
      "memory usage: 107.8+ KB\n"
     ]
    }
   ],
   "source": [
    "series.info()"
   ]
  },
  {
   "cell_type": "code",
   "execution_count": null,
   "metadata": {},
   "outputs": [
    {
     "data": {
      "text/html": [
       "<div>\n",
       "<style scoped>\n",
       "    .dataframe tbody tr th:only-of-type {\n",
       "        vertical-align: middle;\n",
       "    }\n",
       "\n",
       "    .dataframe tbody tr th {\n",
       "        vertical-align: top;\n",
       "    }\n",
       "\n",
       "    .dataframe thead th {\n",
       "        text-align: right;\n",
       "    }\n",
       "</style>\n",
       "<table border=\"1\" class=\"dataframe\">\n",
       "  <thead>\n",
       "    <tr style=\"text-align: right;\">\n",
       "      <th></th>\n",
       "      <th>rating</th>\n",
       "      <th>votes</th>\n",
       "    </tr>\n",
       "  </thead>\n",
       "  <tbody>\n",
       "    <tr>\n",
       "      <th>count</th>\n",
       "      <td>1021.000000</td>\n",
       "      <td>1.021000e+03</td>\n",
       "    </tr>\n",
       "    <tr>\n",
       "      <th>mean</th>\n",
       "      <td>7.935357</td>\n",
       "      <td>1.056794e+05</td>\n",
       "    </tr>\n",
       "    <tr>\n",
       "      <th>std</th>\n",
       "      <td>0.671093</td>\n",
       "      <td>1.599385e+05</td>\n",
       "    </tr>\n",
       "    <tr>\n",
       "      <th>min</th>\n",
       "      <td>6.000000</td>\n",
       "      <td>2.503300e+04</td>\n",
       "    </tr>\n",
       "    <tr>\n",
       "      <th>25%</th>\n",
       "      <td>7.500000</td>\n",
       "      <td>3.502200e+04</td>\n",
       "    </tr>\n",
       "    <tr>\n",
       "      <th>50%</th>\n",
       "      <td>8.000000</td>\n",
       "      <td>5.363500e+04</td>\n",
       "    </tr>\n",
       "    <tr>\n",
       "      <th>75%</th>\n",
       "      <td>8.400000</td>\n",
       "      <td>1.097020e+05</td>\n",
       "    </tr>\n",
       "    <tr>\n",
       "      <th>max</th>\n",
       "      <td>9.500000</td>\n",
       "      <td>2.250253e+06</td>\n",
       "    </tr>\n",
       "  </tbody>\n",
       "</table>\n",
       "</div>"
      ],
      "text/plain": [
       "            rating         votes\n",
       "count  1021.000000  1.021000e+03\n",
       "mean      7.935357  1.056794e+05\n",
       "std       0.671093  1.599385e+05\n",
       "min       6.000000  2.503300e+04\n",
       "25%       7.500000  3.502200e+04\n",
       "50%       8.000000  5.363500e+04\n",
       "75%       8.400000  1.097020e+05\n",
       "max       9.500000  2.250253e+06"
      ]
     },
     "execution_count": 19,
     "metadata": {},
     "output_type": "execute_result"
    }
   ],
   "source": [
    "series.describe()"
   ]
  },
  {
   "cell_type": "markdown",
   "metadata": {},
   "source": [
    "save data after clean"
   ]
  },
  {
   "cell_type": "code",
   "execution_count": 22,
   "metadata": {},
   "outputs": [],
   "source": [
    "series.to_csv(\"series_after_cleaning.csv\",index=False)"
   ]
  }
 ],
 "metadata": {
  "kernelspec": {
   "display_name": "Python 3",
   "language": "python",
   "name": "python3"
  },
  "language_info": {
   "codemirror_mode": {
    "name": "ipython",
    "version": 3
   },
   "file_extension": ".py",
   "mimetype": "text/x-python",
   "name": "python",
   "nbconvert_exporter": "python",
   "pygments_lexer": "ipython3",
   "version": "3.11.3"
  }
 },
 "nbformat": 4,
 "nbformat_minor": 2
}
